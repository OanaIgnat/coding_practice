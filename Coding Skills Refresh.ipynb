{
 "cells": [
  {
   "cell_type": "markdown",
   "id": "aa8aaeb9",
   "metadata": {},
   "source": [
    "# Data Structures"
   ]
  },
  {
   "cell_type": "markdown",
   "id": "9cc26f36",
   "metadata": {},
   "source": [
    "## 1. Arrays\n",
    "\n",
    "### Pros:\n",
    "1. Since elements of an array are **contiguous in memory**, we can *access* any element randomly using an index in *O(1) time*\n",
    "2. Can **represent matrices** using 2D arrays\n",
    "3. Can **represent other DS**: LL, stacks, queue, trees, graphs\n",
    "4. **Sorting and searching are easy** to perform\n",
    "\n",
    "### Cons:\n",
    "1. **Insert & Delete are O(N)** as the elems need to be shifted \n",
    "2. Cannot store values of **different data types**\n"
   ]
  },
  {
   "cell_type": "markdown",
   "id": "521b71aa",
   "metadata": {},
   "source": [
    "### 1.1 Matrices\n",
    "\n",
    "#### 1D to 2D: https://icarus.cs.weber.edu/~dab/cs1410/textbook/7.Arrays/row_major.html\n",
    "\n",
    "M[i][j] = arr[i * ncols + j] -> i = idx // ncols and j = idx % ncols, where idx = i * ncols + j\n",
    "\n",
    "#### 2D to 1D:\n",
    "arr[idx] = M[idx // ncols][idx % ncols]"
   ]
  },
  {
   "cell_type": "code",
   "execution_count": 46,
   "id": "767269fe",
   "metadata": {},
   "outputs": [
    {
     "data": {
      "text/plain": [
       "[[0, 0, 0, 0, 0], [0, 0, 0, 0, 0]]"
      ]
     },
     "execution_count": 46,
     "metadata": {},
     "output_type": "execute_result"
    }
   ],
   "source": [
    "# initialise empty matrix\n",
    "nb_cols, nb_rows = 5, 2\n",
    "m = [[0 for i in range(nb_cols)] for j in range(nb_rows)]\n",
    "m"
   ]
  },
  {
   "cell_type": "code",
   "execution_count": 6,
   "id": "85860722",
   "metadata": {},
   "outputs": [],
   "source": [
    "matrix = [\n",
    "...     [1, 2, 3, 4],\n",
    "...     [5, 6, 7, 8],\n",
    "...     [9, 10, 11, 12],\n",
    "... ]"
   ]
  },
  {
   "cell_type": "code",
   "execution_count": 9,
   "id": "3c1925f6",
   "metadata": {},
   "outputs": [],
   "source": [
    "nb_rows, nb_cols = len(matrix), len(matrix[0])"
   ]
  },
  {
   "cell_type": "markdown",
   "id": "16abc047",
   "metadata": {},
   "source": [
    "#### Transpose matrix"
   ]
  },
  {
   "cell_type": "code",
   "execution_count": 12,
   "id": "7c025539",
   "metadata": {},
   "outputs": [
    {
     "data": {
      "text/plain": [
       "[(1, 5, 9), (2, 6, 10), (3, 7, 11), (4, 8, 12)]"
      ]
     },
     "execution_count": 12,
     "metadata": {},
     "output_type": "execute_result"
    }
   ],
   "source": [
    "list(zip(*matrix))"
   ]
  },
  {
   "cell_type": "code",
   "execution_count": 14,
   "id": "5a12ec0c",
   "metadata": {},
   "outputs": [
    {
     "data": {
      "text/plain": [
       "[[1, 5, 9], [2, 6, 10], [3, 7, 11], [4, 8, 12]]"
      ]
     },
     "execution_count": 14,
     "metadata": {},
     "output_type": "execute_result"
    }
   ],
   "source": [
    "[[row[i] for row in matrix] for i in range(nb_cols)]"
   ]
  },
  {
   "cell_type": "code",
   "execution_count": 15,
   "id": "fa25bb5d",
   "metadata": {},
   "outputs": [
    {
     "data": {
      "text/plain": [
       "[[1, 5, 9], [2, 6, 10], [3, 7, 11], [4, 8, 12]]"
      ]
     },
     "execution_count": 15,
     "metadata": {},
     "output_type": "execute_result"
    }
   ],
   "source": [
    "transposed = []\n",
    "\n",
    "for i in range(nb_cols):\n",
    "    transposed_row = []\n",
    "    \n",
    "    for row in matrix:\n",
    "        transposed_row.append(row[i])\n",
    "        \n",
    "    transposed.append(transposed_row)\n",
    "    \n",
    "transposed"
   ]
  },
  {
   "cell_type": "markdown",
   "id": "66461fe4",
   "metadata": {},
   "source": [
    "#### Reshape matrix"
   ]
  },
  {
   "cell_type": "code",
   "execution_count": 51,
   "id": "212b202b",
   "metadata": {},
   "outputs": [
    {
     "data": {
      "text/plain": [
       "[[1, 2, 3], [4, 5, 6], [7, 8, 9], [10, 11, 12]]"
      ]
     },
     "execution_count": 51,
     "metadata": {},
     "output_type": "execute_result"
    }
   ],
   "source": [
    "# to (r,c)\n",
    "c, r = 3, 4\n",
    "res = [[0 for i in range(c)] for j in range(r)] #initialise empty matrix of (r,c) size\n",
    "\n",
    "flat_mat = [elem for row in matrix for elem in row] #flatten matrix\n",
    "\n",
    "# 1D to 2D\n",
    "for i in range(r):\n",
    "    for j in range(c):\n",
    "        res[i][j] = flat_mat[i*c + j]\n",
    "res"
   ]
  },
  {
   "cell_type": "markdown",
   "id": "581c980b",
   "metadata": {},
   "source": [
    "### 1.2 Techniques\n",
    "https://leetcode.com/discuss/study-guide/1691931/Beginner's-guide-on-interview-preparation\n",
    "\n",
    "1.2.1 Sliding Window\n",
    "\n",
    "1.2.2 Two Pointers\n",
    "\n",
    "1.2.3 Prefix Sum\n",
    "\n",
    "1.2.4 Merge Intervals\n",
    "\n",
    "1.2.5 Modified Binary Search"
   ]
  },
  {
   "cell_type": "code",
   "execution_count": null,
   "id": "471a4368",
   "metadata": {},
   "outputs": [],
   "source": [
    "### TODO"
   ]
  },
  {
   "cell_type": "markdown",
   "id": "374864f6",
   "metadata": {},
   "source": [
    "## 2. Linked Lists\n",
    "\n",
    "### Pros:\n",
    "1. **Dynamic DS** - no need to initialise size of LL and no memory waste\n",
    "2. Easy/ Fast **O(1) insertion & deletion** - no need to shift elems as in Array, only update the addresses/pointers\n",
    "\n",
    "### Cons:\n",
    "1. Traversal, **O(N) access** a random elem at pos x, we have to traverse all elems until x\n",
    "2. Storage Memory - **more memory** required to store the pointers"
   ]
  },
  {
   "cell_type": "code",
   "execution_count": 44,
   "id": "4195f237",
   "metadata": {},
   "outputs": [
    {
     "name": "stdout",
     "output_type": "stream",
     "text": [
      "10-->60-->50-->60-->70-->60-->\n",
      "10-->50-->70-->\n"
     ]
    }
   ],
   "source": [
    "class Node:\n",
    "    def __init__(self, val=None, next=None):\n",
    "        self.val = val\n",
    "        self.next = next\n",
    "        \n",
    "    #if Doubly LL\n",
    "    def __init__(self, val=None, next=None, prev=None):\n",
    "        self.val = val\n",
    "        self.next = next\n",
    "        self.prev = prev\n",
    "        \n",
    "class LinkedList:\n",
    "    def __init__(self):\n",
    "        self.head = None\n",
    "    \n",
    "    def insert_at_beginning(self, val):\n",
    "        node = Node(val, self.head)\n",
    "        self.head = node\n",
    "    \n",
    "    def insert_at_end(self, val):\n",
    "        if not self.head:\n",
    "            self.head = Node(val, None)\n",
    "            return\n",
    "        \n",
    "        #iterate through LL and insert elem at the end\n",
    "        itr = self.head\n",
    "        while itr.next:\n",
    "            itr = itr.next\n",
    "            \n",
    "        itr.next = Node(val, None)\n",
    "        \n",
    "    def insert_values(self, val_list):\n",
    "        self.head = None\n",
    "        for val in val_list:\n",
    "            self.insert_at_end(val)\n",
    "    \n",
    "    def insert_at(self, idx, val):\n",
    "        if idx < 0 or idx > self.get_length():\n",
    "            raise Exception(\"Invalid index\")\n",
    "        \n",
    "        if idx == 0:\n",
    "            self.insert_at_beginning(val)\n",
    "            return\n",
    "        \n",
    "        count = 0\n",
    "        itr = self.head\n",
    "        while itr:\n",
    "            if count == idx - 1:  # need to stop at prev elem idx and change pointer\n",
    "                node = Node(val, itr.next) # create node to insert and point to next \n",
    "                itr.next = node               \n",
    "                break\n",
    "                \n",
    "            count += 1\n",
    "            itr = itr.next\n",
    "    \n",
    "    def insert_after_value(self, value, val):\n",
    "        if not self.head:\n",
    "            return\n",
    "        \n",
    "        itr = self.head\n",
    "        while itr:\n",
    "            if itr.val == value:\n",
    "                node = Node(val, itr.next)\n",
    "                itr.next = node\n",
    "            itr = itr.next\n",
    "    \n",
    "    def remove_at(self, idx):\n",
    "        if idx < 0 or idx > self.get_length():\n",
    "            raise Exception(\"Invalid index\")\n",
    "            \n",
    "        if idx == 0:\n",
    "            self.head = self.head.next\n",
    "            return\n",
    "        \n",
    "        count = 0\n",
    "        itr = self.head\n",
    "        while itr:\n",
    "            if count == idx - 1:  # need to stop at prev elem idx and change pointer\n",
    "                itr.next = itr.next.next\n",
    "                break\n",
    "                \n",
    "            count += 1\n",
    "            itr = itr.next\n",
    "    \n",
    "    def remove_by_value(self, value):\n",
    "        if not self.head:\n",
    "            return\n",
    "        \n",
    "#         if self.head.val == value:\n",
    "#             self.head = self.head.next\n",
    "#             return\n",
    "        itr = self.head\n",
    "        \n",
    "        while itr:\n",
    "            if not itr.next:\n",
    "                return\n",
    "            if itr.next.val == value:\n",
    "                itr.next = itr.next.next\n",
    "            itr = itr.next\n",
    "    \n",
    "    def get_length(self):\n",
    "        itr = self.head\n",
    "        count = 0\n",
    "        while itr:\n",
    "            count += 1\n",
    "            itr = itr.next\n",
    "        return count\n",
    "        \n",
    "    def print(self):\n",
    "        if not self.head:\n",
    "            print(\"LL empty\")\n",
    "            return\n",
    "        else:\n",
    "            itr = self.head\n",
    "            result = \"\"\n",
    "            while itr:\n",
    "                result += str(itr.val) + \"-->\"\n",
    "                itr = itr.next\n",
    "            print(result)\n",
    "    \n",
    "    \n",
    "ll = LinkedList()\n",
    "# ll.insert_at_beginning(5)\n",
    "# ll.insert_at_beginning(10)\n",
    "# ll.insert_at_end(20)\n",
    "# ll.insert_at_end(30)\n",
    "ll.insert_values([10, 60, 50, 60, 70, 60])\n",
    "# ll.remove_at(1)\n",
    "# ll.insert_at(2, 90)\n",
    "# ll.insert_after_value(60, 10)\n",
    "ll.print()\n",
    "ll.remove_by_value(60)\n",
    "ll.print()"
   ]
  },
  {
   "cell_type": "markdown",
   "id": "c7cc5c2a",
   "metadata": {},
   "source": [
    "## 3. Stack (LIFO)\n",
    "\n",
    "### Pros:\n",
    "1. Enforcing sequential rules of access\n",
    "\n",
    "### Cons:\n",
    "1. Limited memory (chance of stack overflow)\n",
    "2. Random access not possible"
   ]
  },
  {
   "cell_type": "code",
   "execution_count": 4,
   "id": "e0675bb4",
   "metadata": {},
   "outputs": [
    {
     "name": "stdout",
     "output_type": "stream",
     "text": [
      "['a', 'b', 'c']\n",
      "['a', 'b']\n",
      "['a']\n"
     ]
    }
   ],
   "source": [
    "stack = []\n",
    "\n",
    "# push elem at top of the stack\n",
    "stack.append('a')\n",
    "stack.append('b')\n",
    "stack.append('c')\n",
    "print(stack)\n",
    "\n",
    "# pop elem from top (last elem)\n",
    "stack.pop()\n",
    "print(stack)\n",
    "stack.pop()\n",
    "print(stack)"
   ]
  },
  {
   "cell_type": "markdown",
   "id": "ethical-boundary",
   "metadata": {},
   "source": [
    "### Problems\n",
    "1. Valid Parantheses \n",
    "2. Reverse Polish notation\n",
    "3. Daily Temperatures - monotonic stack TODO\n",
    "4. Decode String - 2 stacks TODO\n",
    "\n",
    "#### DFS:\n",
    "1. Number of islands\n",
    "2. Target Sum TODO\n",
    "3. Flood fill TODO\n",
    "4. Keys and rooms TODO"
   ]
  },
  {
   "cell_type": "code",
   "execution_count": null,
   "id": "immune-cleanup",
   "metadata": {},
   "outputs": [],
   "source": [
    "# Daily Temperatures - Monotonic Stack\n"
   ]
  },
  {
   "cell_type": "code",
   "execution_count": 11,
   "id": "developing-variance",
   "metadata": {},
   "outputs": [
    {
     "data": {
      "text/plain": [
       "3"
      ]
     },
     "execution_count": 11,
     "metadata": {},
     "output_type": "execute_result"
    }
   ],
   "source": [
    "# Number Islands\n",
    "def dfs(grid, r, c):\n",
    "    grid[r][c] = 'visited'\n",
    "\n",
    "    nr, nc = len(grid), len(grid[0])\n",
    "\n",
    "    if r - 1 >= 0 and grid[r - 1][c] == 1:\n",
    "        dfs(grid, r - 1, c)\n",
    "    if c - 1 >= 0 and grid[r][c - 1] == 1:\n",
    "        dfs(grid, r, c - 1)\n",
    "    if r + 1 < nr and grid[r + 1][c] == 1:\n",
    "        dfs(grid, r + 1, c)\n",
    "    if c + 1 < nc and grid[r][c + 1] == 1:\n",
    "        dfs(grid, r, c + 1)\n",
    "\n",
    "\n",
    "def numIslands(grid) -> int:\n",
    "    num_islands = 0\n",
    "    nr, nc = len(grid), len(grid[0])\n",
    "    if not nr:\n",
    "        return 0\n",
    "\n",
    "    for i in range(nr):\n",
    "        for j in range(nc):\n",
    "            if grid[i][j] == 1:\n",
    "                num_islands += 1\n",
    "                dfs(grid, i, j)\n",
    "\n",
    "    return num_islands\n",
    "\n",
    "\"\"\"\n",
    "11000\n",
    "11000\n",
    "00011\n",
    "10000\n",
    "\"\"\"\n",
    "grid = [[1, 1, 0, 0, 0], [1, 1, 0, 0, 0], [0, 0, 0, 1, 1], [1, 0, 0, 0, 0]]\n",
    "numIslands(grid)"
   ]
  },
  {
   "cell_type": "code",
   "execution_count": null,
   "id": "irish-artwork",
   "metadata": {},
   "outputs": [],
   "source": []
  },
  {
   "cell_type": "code",
   "execution_count": null,
   "id": "unexpected-there",
   "metadata": {},
   "outputs": [],
   "source": []
  },
  {
   "cell_type": "markdown",
   "id": "9151aef7",
   "metadata": {},
   "source": [
    "## 4. Queue (FIFO)\n",
    "\n",
    "### Pros:\n",
    "1. Enforcing sequential rules of access\n",
    "\n",
    "### Cons:\n",
    "1. Limited memory (chance of stack overflow)\n",
    "2. Random access not possible"
   ]
  },
  {
   "cell_type": "code",
   "execution_count": 3,
   "id": "804bd754",
   "metadata": {},
   "outputs": [
    {
     "name": "stdout",
     "output_type": "stream",
     "text": [
      "['a', 'b', 'c']\n",
      "['b', 'c']\n",
      "['c']\n"
     ]
    }
   ],
   "source": [
    "queue = []\n",
    "\n",
    "# push/ enqueue elem to queue\n",
    "queue.append('a')\n",
    "queue.append('b')\n",
    "queue.append('c')\n",
    "print(queue)\n",
    "\n",
    "#pop/ dequeue elem from queue (first elem)\n",
    "queue.pop(0)\n",
    "print(queue)\n",
    "queue.pop(0)\n",
    "print(queue)"
   ]
  },
  {
   "cell_type": "markdown",
   "id": "changing-arrow",
   "metadata": {},
   "source": [
    "### Problems\n",
    "1. Moving Average\n",
    "\n",
    "#### BFS:\n",
    "    \n",
    "1. Walls and Gates\n",
    "2. Open the lock TODO\n",
    "3. Perfect squares TODO\n",
    "4. Matrix TODO"
   ]
  },
  {
   "cell_type": "code",
   "execution_count": null,
   "id": "sought-biology",
   "metadata": {},
   "outputs": [],
   "source": [
    "# Moving Average"
   ]
  },
  {
   "cell_type": "code",
   "execution_count": 3,
   "id": "driven-point",
   "metadata": {},
   "outputs": [],
   "source": [
    "# Perfect Squares"
   ]
  },
  {
   "cell_type": "code",
   "execution_count": 2,
   "id": "fixed-albania",
   "metadata": {},
   "outputs": [
    {
     "data": {
      "text/plain": [
       "[[3, -1, 0, 1], [2, 2, 1, -1], [1, -1, 2, -1], [0, -1, 3, 4]]"
      ]
     },
     "execution_count": 2,
     "metadata": {},
     "output_type": "execute_result"
    }
   ],
   "source": [
    "# BFS from each Gate to Empty Room\n",
    "def wallsAndGates(rooms):\n",
    "    \n",
    "    directions = [(0, 1), (1, 0), (-1, 0), (0, -1)]\n",
    "    nr, nc = len(rooms), len(rooms[0])\n",
    "\n",
    "    queue = []\n",
    "    for i in range(nr):\n",
    "        for j in range(nc):\n",
    "            if rooms[i][j] == 0: #Gate\n",
    "                queue.append((i, j))\n",
    "\n",
    "    while queue:\n",
    "        top = queue.pop(0)\n",
    "        r_gate, c_gate = top[0], top[1] \n",
    "\n",
    "        for d in directions:\n",
    "            r = r_gate + d[0]\n",
    "            c = c_gate + d[1]\n",
    "\n",
    "            # wall or not in empty room\n",
    "            if r < 0 or c < 0 or r >= nr or c >= nc or rooms[r][c] != 2147483647:\n",
    "                continue\n",
    "\n",
    "            # update the empty room with distance from gate\n",
    "            rooms[r][c] = rooms[r_gate][c_gate] + 1\n",
    "            queue.append((r, c))\n",
    "\n",
    "    return rooms\n",
    "\n",
    "\n",
    "# -1 A wall or an obstacle.\n",
    "# 0 A gate.\n",
    "# INF Infinity means an empty room. We use the value 231 - 1 = 2147483647 to represent INF\n",
    "rooms = [[2147483647,-1,0,2147483647],[2147483647,2147483647,2147483647,-1],[2147483647,-1,2147483647,-1],[0,-1,2147483647,2147483647]]\n",
    "wallsAndGates(rooms)"
   ]
  },
  {
   "cell_type": "markdown",
   "id": "1c37b706",
   "metadata": {},
   "source": [
    "## 5. Binary Search Trees\n",
    "\n",
    "### Pros:\n",
    "1. **Search, insert, delete is O(log n) Avg/ O(n) Worst** instead of O(n) \n",
    "\n",
    "### Cons:\n",
    "1. Poor performance if not tree is **unbalanced**\n"
   ]
  },
  {
   "cell_type": "markdown",
   "id": "finnish-stanley",
   "metadata": {},
   "source": [
    "### Traversal\n",
    "\n",
    "1. Preorder: Root - Left - Right\n",
    "2. Inorder: Root - Left - Right\n",
    "3. Postorder: Root - Left - Right\n",
    "4. Level: \n",
    "\n",
    "Complexity: O(n) time and space\n",
    "\n",
    "If tree depth too large, might give stack overflow -> try iterative"
   ]
  },
  {
   "cell_type": "code",
   "execution_count": 3,
   "id": "handy-white",
   "metadata": {},
   "outputs": [],
   "source": [
    "class Node:\n",
    "    def __init__(self, val):\n",
    "        self.val = val\n",
    "        self.left = None\n",
    "        self.right = None\n",
    "'''\n",
    "    1\n",
    "   / \\\n",
    "  2   3\n",
    " / \\\n",
    "4   5\n",
    "'''\n",
    "root = Node(1)\n",
    "root.left = Node(2)\n",
    "root.right = Node(3)\n",
    "root.left.left = Node(4)\n",
    "root.left.right = Node(5)"
   ]
  },
  {
   "cell_type": "code",
   "execution_count": 20,
   "id": "reduced-finance",
   "metadata": {},
   "outputs": [
    {
     "name": "stdout",
     "output_type": "stream",
     "text": [
      "[1, 2, 4, 5, 3]\n",
      "[1, 2, 4, 5, 3]\n"
     ]
    }
   ],
   "source": [
    "# Preorder (root first): Root - Left - Right\n",
    "def preorder(root) -> []:\n",
    "    if not root:\n",
    "        return []\n",
    "    return [root.val] + preorder(root.left) + preorder(root.right)\n",
    "\n",
    "print(preorder(root))\n",
    "\n",
    "def preorder_iterative(root) -> []:\n",
    "    if not root:\n",
    "        return []\n",
    "    \n",
    "    stack, result = [root], [] #put root in stack as root is first in preorder\n",
    "    while stack:\n",
    "        root = stack.pop()\n",
    "        if root:\n",
    "            result.append(root.val)\n",
    "        # we push the right child first so that we can visit \n",
    "        # the left child first since the nature of the stack is LIFO\n",
    "        if root.right:\n",
    "            stack.append(root.right)\n",
    "        if root.left:\n",
    "            stack.append(root.left) \n",
    "    return result\n",
    "\n",
    "print(preorder_iterative(root))"
   ]
  },
  {
   "cell_type": "code",
   "execution_count": 32,
   "id": "actual-convertible",
   "metadata": {},
   "outputs": [
    {
     "name": "stdout",
     "output_type": "stream",
     "text": [
      "[4, 2, 5, 1, 3]\n",
      "[4, 2, 5, 1, 3]\n"
     ]
    }
   ],
   "source": [
    "# Inorder (root inside): Left - Root- Right\n",
    "def inorder(root) -> []:\n",
    "    if not root:\n",
    "        return []\n",
    "    return inorder(root.left) + [root.val] + inorder(root.right)\n",
    "\n",
    "print(inorder(root))\n",
    "\n",
    "def inorder_iterative(root) -> []:\n",
    "    if not root:\n",
    "        return []\n",
    "    \n",
    "    stack, result = [], []\n",
    "    while stack or root:\n",
    "        while root: # push each node's left child, until left leaf\n",
    "            stack.append(root)\n",
    "            root = root.left\n",
    "        root = stack.pop() # this node has no left child\n",
    "        result.append(root.val)\n",
    "        root = root.right # visit its right child --> if it has left child ? append left and left.val, otherwise append node.val, then visit right child again... cur = node.right\n",
    "    return result\n",
    "\n",
    "        \n",
    "print(inorder_iterative(root))"
   ]
  },
  {
   "cell_type": "code",
   "execution_count": 28,
   "id": "rotary-primary",
   "metadata": {},
   "outputs": [
    {
     "name": "stdout",
     "output_type": "stream",
     "text": [
      "[4, 5, 2, 3, 1]\n",
      "[4, 5, 2, 3, 1]\n"
     ]
    }
   ],
   "source": [
    "# Postorder (root last): Left - Right - Root\n",
    "def postorder(root) -> []:\n",
    "    if not root:\n",
    "        return []\n",
    "    return postorder(root.left) + postorder(root.right) + [root.val]\n",
    "\n",
    "print(postorder(root))\n",
    "\n",
    "def postorder_iterative(root) -> []:\n",
    "    if not root:\n",
    "        return []\n",
    "    \n",
    "    stack, result = [root], []\n",
    "    while stack:\n",
    "        root = stack.pop()\n",
    "        result.append(root.val)\n",
    "        if root.left:\n",
    "            stack.append(root.left)\n",
    "        if root.right:\n",
    "            stack.append(root.right)\n",
    "    return result[::-1]\n",
    "\n",
    "print(postorder_iterative(root))\n"
   ]
  },
  {
   "cell_type": "code",
   "execution_count": 4,
   "id": "positive-aaron",
   "metadata": {},
   "outputs": [
    {
     "data": {
      "text/plain": [
       "[[1], [2, 3], [4, 5]]"
      ]
     },
     "execution_count": 4,
     "metadata": {},
     "output_type": "execute_result"
    }
   ],
   "source": [
    "# Level order BFS\n",
    "def levelorder(root) -> []:\n",
    "        levels = []\n",
    "        \n",
    "        def helper(node, level):\n",
    "            if node:\n",
    "                 # start the current level\n",
    "                if len(levels) == level:\n",
    "                    levels.append([]) #create new level\n",
    "                    \n",
    "                levels[level] += [node.val] #add node to the new level\n",
    "                \n",
    "                helper(node.left, level+1)\n",
    "                helper(node.right, level+1)\n",
    "\n",
    "        \n",
    "        helper(root, 0)\n",
    "        return levels\n",
    "    \n",
    "levelorder(root)"
   ]
  },
  {
   "cell_type": "code",
   "execution_count": 18,
   "id": "15fe48e2",
   "metadata": {},
   "outputs": [
    {
     "name": "stdout",
     "output_type": "stream",
     "text": [
      "3\n"
     ]
    }
   ],
   "source": [
    "# Maximum depth of binary tree\n",
    "\n",
    "# Solution 1: Bottom-up\n",
    "def maxDepth(root) -> int:\n",
    "    # return specific value for null node\n",
    "    if not root:\n",
    "        return 0\n",
    "    \n",
    "    # call function recursively for left and right child\n",
    "    left_answer = maxDepth(root.left)\n",
    "    right_answer = maxDepth(root.right)\n",
    "    \n",
    "    # answer <-- left_ans, right_ans, root.val\n",
    "    return max(left_answer, right_answer) + 1 \n",
    "\n",
    "print(maxDepth(root))"
   ]
  },
  {
   "cell_type": "code",
   "execution_count": 4,
   "id": "8acd90cb",
   "metadata": {},
   "outputs": [
    {
     "name": "stdout",
     "output_type": "stream",
     "text": [
      "True\n",
      "True\n"
     ]
    }
   ],
   "source": [
    "# Symmetric Tree (left subtree is a mirror of right subtree)\n",
    "\n",
    "'''\n",
    "     1\n",
    "   /   \\\n",
    "  2     2\n",
    " / \\   / \\\n",
    "3   4 4   3\n",
    "'''\n",
    "root = Node(1)\n",
    "root.left = Node(2)\n",
    "root.right = Node(2)\n",
    "root.left.left = Node(3)\n",
    "root.left.right = Node(4)\n",
    "root.right.left = Node(4)\n",
    "root.right.right = Node(3)\n",
    "\n",
    "# Solution 1: Recursive\n",
    "def isSymmetric(root) -> bool:\n",
    "    return isMirror(root, root)\n",
    "\n",
    "def isMirror(t1, t2):\n",
    "    if not t1 and not t2: return True\n",
    "    if not t1 or not t2: return False\n",
    "\n",
    "    return t1.val == t2.val \\\n",
    "    and isMirror(t1.right, t2.left) \\\n",
    "    and isMirror(t1.left, t2.right)\n",
    "    \n",
    "print(isSymmetric(root))\n",
    "    \n",
    "# Solution 2: Iterative (queue/stack)\n",
    "def isSymmetric(root) -> bool:\n",
    "    queue = [root, root]\n",
    "    while queue:\n",
    "        t1 = queue.pop(0) # can be solved with .pop()/stack\n",
    "        t2 = queue.pop(0)\n",
    "        if not t1 and not t2: continue\n",
    "        if not t1 or not t2: return False\n",
    "        if t1.val != t2.val: return False\n",
    "        queue.append(t1.left)\n",
    "        queue.append(t2.right)\n",
    "        queue.append(t1.right)\n",
    "        queue.append(t2.left)\n",
    "    return True\n",
    "\n",
    "\n",
    "print(isSymmetric(root))"
   ]
  },
  {
   "cell_type": "code",
   "execution_count": 11,
   "id": "3b457fed",
   "metadata": {},
   "outputs": [
    {
     "name": "stdout",
     "output_type": "stream",
     "text": [
      "<__main__.Node object at 0x7f37002fbb80>\n",
      "None\n",
      "<__main__.Node object at 0x7f37002fbb80>\n"
     ]
    }
   ],
   "source": [
    "# Invert BST\n",
    "\n",
    "# Solution 1: Recursive\n",
    "def invertTree(root):\n",
    "    if not root:\n",
    "        return None\n",
    "    \n",
    "    aux = root.right\n",
    "    root.right = root.left\n",
    "    root.left = aux\n",
    "\n",
    "    invertTree(root.left)\n",
    "    invertTree(root.right)\n",
    "\n",
    "# Solution 2: Iterative\n",
    "def invertTree(root):\n",
    "    if not root:\n",
    "        return None\n",
    "    \n",
    "    queue = [root]\n",
    "    while queue:\n",
    "        node = queue.pop(0)\n",
    "\n",
    "        aux = node.right\n",
    "        node.right = node.left\n",
    "        node.left = aux\n",
    "\n",
    "        if node.left:\n",
    "            queue.append(node.left)\n",
    "        if node.right:\n",
    "            queue.append(node.right)\n",
    "\n",
    "    return root\n"
   ]
  },
  {
   "cell_type": "code",
   "execution_count": 12,
   "id": "f0324f82",
   "metadata": {},
   "outputs": [
    {
     "name": "stdout",
     "output_type": "stream",
     "text": [
      "<__main__.Node object at 0x7f37002fb490>\n",
      "<__main__.Node object at 0x7f37002fb490>\n"
     ]
    }
   ],
   "source": [
    "# Search for node value in BST\n",
    "# Time complexity : O(H), where H is a tree height. That results in O(logN) in the average case, and O(N) in the worst case.\n",
    "\n",
    "# Solution 1: Recursion\n",
    "# Space complexity: O(H) for the stack\n",
    "def searchBST(root, val):\n",
    "    if not root or root.val == val:\n",
    "        return root\n",
    "\n",
    "    if val < root.val: #BST Tree has ordered elems: left < root < right\n",
    "        return searchBST(root.left, val)\n",
    "    else:\n",
    "        return searchBST(root.right, val)\n",
    "\n",
    "print(searchBST(root, val=2))\n",
    "\n",
    "# Solution 2: Iterative   --- BETTER FOR SPACE THAN RECURSIVE\n",
    "# Space complexity: O(1)\n",
    "def searchBST(root, val):\n",
    "    while root and root.val != val:\n",
    "        if val < root.val:\n",
    "            root = root.left  \n",
    "        else:\n",
    "            root = root.right\n",
    "    return root\n",
    "\n",
    "print(searchBST(root, val=2))"
   ]
  },
  {
   "cell_type": "code",
   "execution_count": 13,
   "id": "8e9ae33c",
   "metadata": {},
   "outputs": [],
   "source": [
    "# Insert node in BST\n",
    "# Time complexity : O(H), where H is a tree height. That results in O(logN) in the average case, and O(N) in the worst case.\n",
    "\n",
    "# Solution 1: Recursion\n",
    "# Space complexity: O(H) for the stack\n",
    "def insertIntoBST(root, val):\n",
    "    if not root:\n",
    "        return Node(val)\n",
    "\n",
    "    if val > root.val:\n",
    "        root.right = insertIntoBST(root.right, val)\n",
    "    else:\n",
    "        root.left = insertIntoBST(root.left, val)\n",
    "\n",
    "    return root\n",
    "\n",
    "# Solution 2: Iterative   --- BETTER FOR SPACE THAN RECURSIVE\n",
    "# Space complexity: O(1)\n",
    "def insertIntoBST(root, val):\n",
    "    node = root\n",
    "    while node:\n",
    "        # insert into the right subtree\n",
    "        if val > node.val:\n",
    "            # insert right now\n",
    "            if not node.right:\n",
    "                node.right = Node(val)\n",
    "                return root\n",
    "            else:\n",
    "                node = node.right\n",
    "        # insert into the left subtree\n",
    "        else:\n",
    "            # insert right now\n",
    "            if not node.left:\n",
    "                node.left = Node(val)\n",
    "                return root\n",
    "            else:\n",
    "                node = node.left\n",
    "    return Node(val)\n"
   ]
  },
  {
   "cell_type": "code",
   "execution_count": 5,
   "id": "48aaeb09",
   "metadata": {},
   "outputs": [
    {
     "data": {
      "text/plain": [
       "True"
      ]
     },
     "execution_count": 5,
     "metadata": {},
     "output_type": "execute_result"
    }
   ],
   "source": [
    "# Given the root of a binary tree and an integer targetSum, return true if the tree has a root-to-leaf path \n",
    "# such that adding up all the values along the path equals targetSum.\n",
    "\n",
    "# Time complexity : we visit each node exactly once, thus the time complexity is O(N)\n",
    "def hasPathSum(root, target_sum) -> bool:\n",
    "    if not root:\n",
    "        return False\n",
    "\n",
    "    target_sum -= root.val\n",
    "    if not root.left and not root.right: # a leaf\n",
    "        return target_sum == 0 \n",
    "\n",
    "    return hasPathSum(root.left, target_sum) or hasPathSum(root.right, target_sum)\n",
    "\n",
    "hasPathSum(root, target_sum=6)"
   ]
  },
  {
   "cell_type": "code",
   "execution_count": 7,
   "id": "0c5c6fbb",
   "metadata": {},
   "outputs": [
    {
     "data": {
      "text/plain": [
       "True"
      ]
     },
     "execution_count": 7,
     "metadata": {},
     "output_type": "execute_result"
    }
   ],
   "source": [
    "# Two-Sum with BST input \n",
    "# Given the root of a Binary Search Tree and a target number k, \n",
    "# return true if there exist two elements in the BST such that their sum is equal to the given target.\n",
    "\n",
    "def findTarget(root, k) -> bool:\n",
    "    if root is None:\n",
    "        return False\n",
    "\n",
    "    s = set()\n",
    "    stack = [root]\n",
    "\n",
    "    while stack:\n",
    "        node = stack.pop()\n",
    "        complement = k - node.val\n",
    "\n",
    "        # if complement not in s: # either: search nb and add complement or search complement and add nb\n",
    "        #     s.add(curr.val)\n",
    "        if node.val not in s:\n",
    "            s.add(complement)\n",
    "        else:\n",
    "            return True\n",
    "\n",
    "        if node.left:  #!!! check for node, not for root\n",
    "            stack.append(node.left)\n",
    "        if node.right:\n",
    "            stack.append(node.right)\n",
    "    return False\n",
    "\n",
    "findTarget(root, 6)"
   ]
  },
  {
   "cell_type": "markdown",
   "id": "9724b2e3",
   "metadata": {},
   "source": [
    "A **valid BST** is defined as follows:\n",
    "\n",
    "1. The left subtree of a node contains only nodes with keys less than the node's key.\n",
    "2. The right subtree of a node contains only nodes with keys greater than the node's key.\n",
    "3. Both the left and right subtrees must also be binary search trees."
   ]
  },
  {
   "cell_type": "code",
   "execution_count": 9,
   "id": "a056ab29",
   "metadata": {},
   "outputs": [
    {
     "data": {
      "text/plain": [
       "False"
      ]
     },
     "execution_count": 9,
     "metadata": {},
     "output_type": "execute_result"
    }
   ],
   "source": [
    "# Is valid BST\n",
    "\n",
    "The left subtree of a node contains only nodes with keys less than the node's key.\n",
    "The right subtree of a node contains only nodes with keys greater than the node's key.\n",
    "Both the left and right subtrees must also be binary search trees.\n",
    "\n",
    "import math\n",
    "# Solution 1 Recursive\n",
    "def isValidBST(root) -> bool:        \n",
    "    def validate(node, low=-math.inf, high=math.inf):\n",
    "        # Empty trees are valid BSTs.\n",
    "        if not node:\n",
    "            return True\n",
    "\n",
    "        # The current node's value must be between low and high.\n",
    "        if node.val <= low or node.val >= high:\n",
    "            return False\n",
    "\n",
    "        return validate(node.right, node.val, high) and validate(node.left, low, node.val)\n",
    "\n",
    "    return validate(root)\n",
    "\n",
    "# Solution 2 Iterative\n",
    "def isValidBST(root) -> bool:      \n",
    "    if not root:\n",
    "        return True\n",
    "\n",
    "    stack = [(root, -math.inf, math.inf)]\n",
    "    while stack:\n",
    "        root, lower, upper = stack.pop()\n",
    "        if not root:\n",
    "            continue\n",
    "        if root.val <= lower or root.val >= upper:\n",
    "            return False\n",
    "\n",
    "        stack.append((root.right, root.val, upper))\n",
    "        stack.append((root.left, lower, root.val))\n",
    "\n",
    "    return True\n",
    "\n",
    "isValidBST(root)"
   ]
  },
  {
   "cell_type": "code",
   "execution_count": null,
   "id": "29447e0d",
   "metadata": {},
   "outputs": [],
   "source": []
  },
  {
   "cell_type": "markdown",
   "id": "gorgeous-trigger",
   "metadata": {},
   "source": [
    "# Recursion"
   ]
  },
  {
   "cell_type": "code",
   "execution_count": 1,
   "id": "following-studio",
   "metadata": {},
   "outputs": [],
   "source": [
    "## Reverse string in place, O(1) space complexity\n",
    "\n",
    "def reverseString(s) -> None:\n",
    "    \"\"\"\n",
    "    Do not return anything, modify s in-place instead.\n",
    "    \"\"\"\n",
    "    def helper(s, start, end):  # DEI method\n",
    "        if start >= end:\n",
    "            return\n",
    "\n",
    "        s[start], s[end] = s[end], s[start] #swap\n",
    "\n",
    "        helper(s, start + 1, end - 1)\n",
    "\n",
    "    helper(s, 0, len(s) - 1)"
   ]
  },
  {
   "cell_type": "code",
   "execution_count": 3,
   "id": "f6b8e816",
   "metadata": {},
   "outputs": [],
   "source": [
    "## Pascal Triangle 2\n",
    "\n",
    "def getNum(row, col):\n",
    "    if row == 0 or col == 0 or row == col:  #base case\n",
    "        return 1\n",
    "\n",
    "    return getNum(row - 1, col - 1) + getNume(row -1, col) #reccurence relation\n",
    "\n",
    "def getRow(rowIndex):\n",
    "    return [getNum(rowIndex, i) for i in range(rowIndex)]\n",
    "        "
   ]
  },
  {
   "cell_type": "code",
   "execution_count": 8,
   "id": "0bec946a",
   "metadata": {},
   "outputs": [
    {
     "name": "stdout",
     "output_type": "stream",
     "text": [
      "8192\n",
      "8192\n"
     ]
    }
   ],
   "source": [
    "# Compute x^n, where n is integer\n",
    "\n",
    "# Solution 1: Brute force - O(n) time\n",
    "def myPow1(x, n) -> float:    \n",
    "    ans = 1\n",
    "    if n < 0:\n",
    "        x = 1 / x\n",
    "        n = -n\n",
    "    \n",
    "    for _ in range(n):\n",
    "        ans *= x\n",
    "\n",
    "    return ans\n",
    "        \n",
    "# Solution 2: O(log n) time\n",
    "def myPow2(x, n) -> float:    \n",
    "    ans = 1\n",
    "    if n < 0:\n",
    "        x = 1 / x\n",
    "        n = -n\n",
    "        \n",
    "    while n > 0:\n",
    "        if n % 2 == 1:\n",
    "            ans = ans * x\n",
    "        x = x * x\n",
    "        n = n // 2\n",
    "            \n",
    "    return ans\n",
    "\n",
    "print(myPow1(2, 13))\n",
    "print(myPow2(2, 13))"
   ]
  },
  {
   "cell_type": "code",
   "execution_count": null,
   "id": "1c7a9334",
   "metadata": {},
   "outputs": [],
   "source": []
  },
  {
   "cell_type": "markdown",
   "id": "aa969708",
   "metadata": {},
   "source": [
    "# Sorting Algorithms"
   ]
  },
  {
   "cell_type": "code",
   "execution_count": null,
   "id": "88a7e137",
   "metadata": {},
   "outputs": [],
   "source": [
    "### TODO"
   ]
  },
  {
   "cell_type": "markdown",
   "id": "38907daf",
   "metadata": {},
   "source": [
    "# Search Algorithms"
   ]
  },
  {
   "cell_type": "code",
   "execution_count": null,
   "id": "7aa643a8",
   "metadata": {},
   "outputs": [],
   "source": [
    "### TODO"
   ]
  },
  {
   "cell_type": "markdown",
   "id": "ab0bfa0f",
   "metadata": {},
   "source": [
    "# Machine Learning Basics"
   ]
  },
  {
   "cell_type": "markdown",
   "id": "drawn-lloyd",
   "metadata": {},
   "source": [
    "## Inner and Outer Product"
   ]
  },
  {
   "cell_type": "markdown",
   "id": "northern-reception",
   "metadata": {},
   "source": [
    "1. A **dot product** will tell you **how similar in direction vector a is to vector b** through the measure of the angle between them.\n",
    "- If the 'vector' of your unknown image is closer in direction to the direction of the 'dog vector' it will classify as dog, otherwise it will classify as cat.\n",
    "\n",
    "- In deep learning, for example - classification is done hierarchically. There are many, many, many layers of successive 'dot-product classifications' before an answer is produced."
   ]
  },
  {
   "cell_type": "code",
   "execution_count": null,
   "id": "harmful-postage",
   "metadata": {},
   "outputs": [],
   "source": []
  },
  {
   "cell_type": "markdown",
   "id": "26e8355b",
   "metadata": {},
   "source": [
    "# Deep Learning"
   ]
  },
  {
   "cell_type": "code",
   "execution_count": null,
   "id": "2b45556e",
   "metadata": {},
   "outputs": [],
   "source": [
    "### TODO"
   ]
  },
  {
   "cell_type": "code",
   "execution_count": null,
   "id": "6fb0dd32",
   "metadata": {},
   "outputs": [],
   "source": []
  }
 ],
 "metadata": {
  "kernelspec": {
   "display_name": "Python 3",
   "language": "python",
   "name": "python3"
  },
  "language_info": {
   "codemirror_mode": {
    "name": "ipython",
    "version": 3
   },
   "file_extension": ".py",
   "mimetype": "text/x-python",
   "name": "python",
   "nbconvert_exporter": "python",
   "pygments_lexer": "ipython3",
   "version": "3.8.10"
  }
 },
 "nbformat": 4,
 "nbformat_minor": 5
}
